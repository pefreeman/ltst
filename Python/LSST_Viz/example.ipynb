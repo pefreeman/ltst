{
 "cells": [
  {
   "cell_type": "code",
   "execution_count": 5,
   "metadata": {
    "collapsed": true
   },
   "outputs": [],
   "source": [
    "import random\n",
    "random.seed(101)"
   ]
  },
  {
   "cell_type": "markdown",
   "metadata": {},
   "source": [
    "__Below, determine your test set size, enter it, and uncomment the line. Then run the cell.__"
   ]
  },
  {
   "cell_type": "code",
   "execution_count": 8,
   "metadata": {
    "collapsed": true
   },
   "outputs": [],
   "source": [
    "import numpy as np\n",
    "import random\n",
    "\n",
    "# 5000-row data frame with 5 predictor variables and 1 response variable.\n",
    "# Predictors (columns 0-4): amp[litude], beyond.std, kurt[osis], skew[ness], std\n",
    "# Response (column 5): var.type (contact binary [0] vs. other [1])\n",
    "\n",
    "data = np.loadtxt(open('./example.csv','rb'),delimiter=',',skiprows=1)\n",
    "\n",
    "# Choose the test set size\n",
    "#numTest = ****\n",
    "\n",
    "# Determine the global proportion of class one objects.\n",
    "globalProportionClassOne = len(np.where(data[:,5]==1)[0])/len(data)\n",
    "\n",
    "# Pick test data (rows of data matrix)\n",
    "idxTest = random.sample(range(len(data)),numTest)\n",
    "\n",
    "# Set aside test data (and remove the response variable).\n",
    "predTest = data[idxTest,:]\n",
    "predTest = np.delete(predTest,-1,1)\n",
    "\n",
    "# Define training variables (both predictor and response)\n",
    "varTrain  = np.delete(data,idxTest,0)\n",
    "predTrain = varTrain[..., :-1]\n",
    "respTrain = varTrain[..., -1]"
   ]
  },
  {
   "cell_type": "code",
   "execution_count": 10,
   "metadata": {
    "collapsed": true
   },
   "outputs": [],
   "source": [
    "import ltst\n",
    "\n",
    "trees     = ltst.ltst(predTrain,respTrain)\n",
    "pred      = trees.predict(predTest)\n",
    "test,pval = trees.test(pred,threshold=globalProportionClassOne,fdr=True)"
   ]
  },
  {
   "cell_type": "markdown",
   "metadata": {},
   "source": [
    "__Given test (and pval, if you want to create more classes [like highly significant vs. marginally significant vs. not significant), go ahead and visualize the results. What can you say about how the predictor values differ between contact binaries and other classes?__"
   ]
  },
  {
   "cell_type": "code",
   "execution_count": null,
   "metadata": {
    "collapsed": true
   },
   "outputs": [],
   "source": []
  }
 ],
 "metadata": {
  "kernelspec": {
   "display_name": "Python 3",
   "language": "python",
   "name": "python3"
  },
  "language_info": {
   "codemirror_mode": {
    "name": "ipython",
    "version": 3
   },
   "file_extension": ".py",
   "mimetype": "text/x-python",
   "name": "python",
   "nbconvert_exporter": "python",
   "pygments_lexer": "ipython3",
   "version": "3.6.3"
  }
 },
 "nbformat": 4,
 "nbformat_minor": 2
}
