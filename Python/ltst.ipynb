{
 "cells": [
  {
   "cell_type": "markdown",
   "metadata": {},
   "source": [
    "# Set Random Number Seed (for Reproducibility)"
   ]
  },
  {
   "cell_type": "code",
   "execution_count": 1,
   "metadata": {
    "collapsed": true
   },
   "outputs": [],
   "source": [
    "import random\n",
    "random.seed(101)"
   ]
  },
  {
   "cell_type": "markdown",
   "metadata": {},
   "source": [
    "# Input Data (Edit for Your Particular Dataset)"
   ]
  },
  {
   "cell_type": "code",
   "execution_count": 2,
   "metadata": {
    "collapsed": true
   },
   "outputs": [],
   "source": [
    "# This example assumes the use of csv data, loaded into a numpy array.\n",
    "import numpy as np\n",
    "import random\n",
    "\n",
    "# Data with 7 predictor variables (all morphology summary statistics) and 1 response variable (stellar mass)\n",
    "data    = np.loadtxt(open('./statistics_large.csv','rb'),delimiter=',',skiprows=1)\n",
    "numTest = 700 # leaving 1787 galaxies for training\n",
    "\n",
    "# Pick test data (rows of data matrix)\n",
    "idx = random.sample(range(len(data)),numTest)\n",
    "\n",
    "# Set aside test data (and remove the last column, which has the response variable)\n",
    "predTest = data[idx,:]\n",
    "predTest = np.delete(predTest,-1,1)\n",
    "\n",
    "# Define training variables (both predictor and response)\n",
    "varTrain = np.delete(data,idx,0)\n",
    "\n",
    "# Here, we define two categories: low-valued response (< 25th percentile) and\n",
    "# high-valued response (> 75th percentile). Rows with middling responses are\n",
    "# removed, and response values are replaced with 0 (low value) or 1 (high value).\n",
    "q1         = np.percentile(varTrain[:,-1],25)\n",
    "q3         = np.percentile(varTrain[:,-1],75)\n",
    "removeRows = []\n",
    "for row in range(varTrain.shape[0]):\n",
    "    if   ( varTrain[row, -1] >= q3 ) : varTrain[row, -1] = 1\n",
    "    elif ( varTrain[row, -1] <= q1 ) : varTrain[row, -1] = 0\n",
    "    else:                              removeRows.append(row)\n",
    "varTrain = np.delete(varTrain,removeRows,0)\n",
    "\n",
    "# Here we split the training data into predictors (all but last column) and\n",
    "# response (last column)\n",
    "predTrain = varTrain[..., :-1]\n",
    "respTrain = varTrain[..., -1]\n",
    "\n",
    "# What is required from this code block: training predictor matrix and \n",
    "# response vector, and test predictor matrix."
   ]
  },
  {
   "cell_type": "markdown",
   "metadata": {},
   "source": [
    "# Run LTST\n",
    "\n",
    "***\n",
    "\n",
    "## API\n",
    "\n",
    "### import ltst\n",
    "\n",
    "__ltst.ltst__ (_predTrain_, _respTrain_, _numTree_=1000, _sampSize_=0, _randomState_=101)\n",
    "\n",
    "Instantiates an LTST class object.\n",
    "\n",
    "Inputs:\n",
    "\n",
    "1. _predTrain_: an mTrain x n 2D numpy predictor variable array with observations in rows and features in columns\n",
    "2. _respTrain_: a response variable vector of length mTrain\n",
    "3. _numTree_: the number of separate decision trees to create\n",
    "4. _sampSize_: the number of rows to select from predTrain, without replacement, when constructing each tree. If zero, a default of np.power(mTrain,0.7) is assumed, to be consistent with the original R code on which the ltst module is based.\n",
    "5. _randomState_: fixes the random_state parameter for DecisionTreeRegressor (for reproducibility)\n",
    "\n",
    "Outputs:\n",
    "\n",
    "1. An instance of class LTST.\n",
    "\n",
    "***\n",
    "\n",
    "__ltst.predict__ (_predTest_)\n",
    "\n",
    "Generates a prediction for the local proportion of class 1 objects for each test set object.\n",
    "\n",
    "Input:\n",
    "\n",
    "1. _predTest_: an mTest x n 2D numpy predictor variable array with observations in rows and features in columns\n",
    "\n",
    "Output:\n",
    "\n",
    "1. An mTest x 2 2D numpy array; column 0 contains the estimated local proportion of class 1 objects, and column 1 contains the estimated variance for that proportion.\n",
    "\n",
    "***\n",
    "\n",
    "__ltst.test__ (_predictedProportion_, _threshold_=0.5, _fdr_=True)\n",
    "\n",
    "Determines whether each test set datum lies in a region with a significantly high proportion of class 0 objects (0) or  a significantly high proportion of class 1 objects (1), or lies in a region whose proportion of class 1 objects is consistent with the null hypothesis given by _threshold_ (-1).\n",
    "\n",
    "Inputs:\n",
    "\n",
    "1. _predictedProportion_: the output from __ltst.predict__.\n",
    "2. _threshold_: in general, the global proportion of class 1 objects.\n",
    "3. _fdr_: if true, apply a correction for multiple comparisons (i.e., that the number of hypothesis tests is the length of the test set).\n",
    "\n",
    "Output:\n",
    "\n",
    "1. A vector of length mTest with values -1, 0, or 1 (see description of the function, above).\n",
    "2. The (false-discovery-rate-corrected if fdr==True) p-value for each test datum.\n",
    "\n",
    "***"
   ]
  },
  {
   "cell_type": "code",
   "execution_count": 3,
   "metadata": {
    "collapsed": true
   },
   "outputs": [],
   "source": [
    "import ltst\n",
    "\n",
    "trees     = ltst.ltst(predTrain,respTrain)\n",
    "pred      = trees.predict(predTest)\n",
    "test,pval = trees.test(pred)"
   ]
  },
  {
   "cell_type": "markdown",
   "metadata": {},
   "source": [
    "# Example of Visualization via Diffusion Map\n",
    "\n",
    "Plots the first two diffusion map coordinates for the test-set data. \n",
    "\n",
    "1. Red: object lies in region with significantly low proportion of class 1 objects.\n",
    "2. Blue: object lies in region with significantly high proportion of class 1 objects.\n",
    "3. Green: object lies in region with proportion of class 1 objects consistent with the null.\n",
    "\n",
    "To \"tune\" the map: adjust _perc_ (and optionally, _neigen_, though the map is more sensitive to _perc_). Here, the appearance of the map is to some extent secondary to the separation you can achieve between objects in \"class 0 regions\" and \"class 1 regions\"."
   ]
  },
  {
   "cell_type": "code",
   "execution_count": 4,
   "metadata": {},
   "outputs": [
    {
     "data": {
      "image/png": "[encoded data removed]",
      "text/plain": [
       "<matplotlib.figure.Figure at 0x10ac8e3c8>"
      ]
     },
     "metadata": {},
     "output_type": "display_data"
    }
   ],
   "source": [
    "import matplotlib.pyplot as plt\n",
    "from diffusionMap import diffuse\n",
    "from scipy.spatial.distance import pdist,squareform\n",
    "\n",
    "neigen  = 10\n",
    "perc    = 30\n",
    "p       = pdist(predTest)\n",
    "D       = squareform(p)\n",
    "eps     = np.square(np.percentile(p,perc))\n",
    "diffMap = diffuse(D,neigen,eps)\n",
    "\n",
    "plt.figure(figsize=(10,10))\n",
    "s = np.where(test==0)[0]\n",
    "plt.plot(diffMap.X[s,0],diffMap.X[s,1],'ro')\n",
    "s = np.where(test==1)[0]\n",
    "plt.plot(diffMap.X[s,0],diffMap.X[s,1],'bo')\n",
    "s = np.where(test==-1)[0]\n",
    "plt.plot(diffMap.X[s,0],diffMap.X[s,1],'g.')\n",
    "plt.xlabel('First Diffusion Coordinate')\n",
    "plt.ylabel('Second Diffusion Coordinate')\n",
    "plt.show()"
   ]
  },
  {
   "cell_type": "markdown",
   "metadata": {},
   "source": [
    "# Example of Visualization Using Diffusion Map and plotly\n",
    "\n",
    "Repeats the plotting of the diffusion map above, with interactivity.\n",
    "\n",
    "The values displayed by hovering over points are the predictor variables: the (M,I,D) statistics of Freeman et al. (2013), the (Gini,M20) statistics of Lotz, Primack, & Madau (2004), and the (C,A) statistics of Conselice (2003). Easy to see is that the C statistic is highly correlated with position along the diffusion map locus."
   ]
  },
  {
   "cell_type": "code",
   "execution_count": 6,
   "metadata": {},
   "outputs": [
    {
     "data": {
      "text/plain": [
       "'file:///Users/peterfreeman/Dropbox/R2Python/pef_python/galaxy-diffmap-scatter.html'"
      ]
     },
     "execution_count": 6,
     "metadata": {},
     "output_type": "execute_result"
    }
   ],
   "source": [
    "from plotly.offline import plot\n",
    "import plotly.graph_objs as go\n",
    "import numpy as np\n",
    "\n",
    "sFail = np.where(test==-1)[0]\n",
    "sLo   = np.where(test==0)[0]\n",
    "sHi   = np.where(test==1)[0]\n",
    "\n",
    "traceFail = go.Scatter(\n",
    "    x         = diffMap.X[sFail,0],\n",
    "    y         = diffMap.X[sFail,1],\n",
    "    name      = 'Not Significant',\n",
    "    text      = np.array([str(xx) for xx in predTest[sFail,:]]),\n",
    "    hoverinfo = 'text',\n",
    "    mode      = 'markers',\n",
    "    marker    = dict(\n",
    "        size  = 5,\n",
    "        color = 'green'\n",
    "    )\n",
    ")\n",
    "traceLo = go.Scatter(\n",
    "    x         = diffMap.X[sLo,0],\n",
    "    y         = diffMap.X[sLo,1],\n",
    "    name      = 'Low Mass-Dominated',\n",
    "    text      = np.array([str(xx) for xx in predTest[sLo,:]]),\n",
    "    hoverinfo = 'text',\n",
    "    mode      = 'markers',\n",
    "    marker    = dict(\n",
    "        size  = 10,\n",
    "        color = 'red'\n",
    "    )\n",
    ")\n",
    "traceHi = go.Scatter(\n",
    "    x         = diffMap.X[sHi,0],\n",
    "    y         = diffMap.X[sHi,1],\n",
    "    name      = 'High Mass-Dominated',\n",
    "    text      = np.array([str(xx) for xx in predTest[sHi,:]]),\n",
    "    hoverinfo = 'text',\n",
    "    mode      = 'markers',\n",
    "    marker    = dict(\n",
    "        size  = 10,\n",
    "        color = 'blue'\n",
    "    )\n",
    ")\n",
    "\n",
    "data = [traceFail,traceLo,traceHi]\n",
    "\n",
    "layout = go.Layout(\n",
    "    hovermode = 'closest',\n",
    "    xaxis = dict(\n",
    "        zeroline = False\n",
    "    ),\n",
    "    yaxis = dict(\n",
    "        zeroline = False\n",
    "    )\n",
    ")\n",
    "\n",
    "fig = go.Figure(data=data,layout=layout)\n",
    "\n",
    "plot(fig,filename='galaxy-diffmap-scatter.html')"
   ]
  },
  {
   "cell_type": "markdown",
   "metadata": {},
   "source": [
    "# Example of Visualization via Boxplots\n",
    "\n",
    "Boxplots a given (filtered) statistic. The examples indicate that there is a marked difference in the distributions of the statistics in class-0-dominated regions vs. class-1-dominated regions."
   ]
  },
  {
   "cell_type": "code",
   "execution_count": 8,
   "metadata": {},
   "outputs": [
    {
     "data": {
      "image/png": "[encoded data removed]",
      "text/plain": [
       "<matplotlib.figure.Figure at 0x10eb54c18>"
      ]
     },
     "metadata": {},
     "output_type": "display_data"
    },
    {
     "data": {
      "image/png": "[encoded data removed]",
      "text/plain": [
       "<matplotlib.figure.Figure at 0x10fb48cf8>"
      ]
     },
     "metadata": {},
     "output_type": "display_data"
    },
    {
     "data": {
      "image/png": "[encoded data removed]",
      "text/plain": [
       "<matplotlib.figure.Figure at 0x10fc14668>"
      ]
     },
     "metadata": {},
     "output_type": "display_data"
    }
   ],
   "source": [
    "import matplotlib.pyplot as plt\n",
    "\n",
    "sHi = np.where(test==1)[0]\n",
    "sLo = np.where(test==0)[0]\n",
    "\n",
    "plt.boxplot([predTest[sLo,3],predTest[sHi,3]],labels=['G low','G high'])\n",
    "plt.title('Gini')\n",
    "plt.show()\n",
    "plt.boxplot([predTest[sLo,4],predTest[sHi,4]],labels=['M20 low','M20 high'])\n",
    "plt.title('M20')\n",
    "plt.show()\n",
    "plt.boxplot([predTest[sLo,5],predTest[sHi,5]],labels=['C low','C high'])\n",
    "plt.title('C')\n",
    "plt.show()"
   ]
  }
 ],
 "metadata": {
  "kernelspec": {
   "display_name": "Python 3",
   "language": "python",
   "name": "python3"
  },
  "language_info": {
   "codemirror_mode": {
    "name": "ipython",
    "version": 3
   },
   "file_extension": ".py",
   "mimetype": "text/x-python",
   "name": "python",
   "nbconvert_exporter": "python",
   "pygments_lexer": "ipython3",
   "version": "3.6.3"
  }
 },
 "nbformat": 4,
 "nbformat_minor": 2
}
